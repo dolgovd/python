{
 "cells": [
  {
   "cell_type": "markdown",
   "id": "1679284d",
   "metadata": {},
   "source": [
    "# Series. Constructor"
   ]
  },
  {
   "cell_type": "code",
   "execution_count": 1,
   "id": "4ec7b65e",
   "metadata": {},
   "outputs": [],
   "source": [
    "import pandas as pd"
   ]
  },
  {
   "cell_type": "code",
   "execution_count": 2,
   "id": "997aaddf",
   "metadata": {},
   "outputs": [
    {
     "data": {
      "text/plain": [
       "'1.5.3'"
      ]
     },
     "execution_count": 2,
     "metadata": {},
     "output_type": "execute_result"
    }
   ],
   "source": [
    "pd.__version__"
   ]
  },
  {
   "cell_type": "code",
   "execution_count": 4,
   "id": "bc417e8c",
   "metadata": {},
   "outputs": [
    {
     "data": {
      "text/plain": [
       "0    1\n",
       "1    2\n",
       "2    3\n",
       "3    4\n",
       "dtype: int64"
      ]
     },
     "execution_count": 4,
     "metadata": {},
     "output_type": "execute_result"
    }
   ],
   "source": [
    "ds = pd.Series([1, 2, 3, 4])\n",
    "ds"
   ]
  },
  {
   "cell_type": "markdown",
   "id": "980397ad",
   "metadata": {},
   "source": [
    "#### Get values"
   ]
  },
  {
   "cell_type": "code",
   "execution_count": 5,
   "id": "80a852fe",
   "metadata": {},
   "outputs": [
    {
     "data": {
      "text/plain": [
       "array([1, 2, 3, 4])"
      ]
     },
     "execution_count": 5,
     "metadata": {},
     "output_type": "execute_result"
    }
   ],
   "source": [
    "ds.values"
   ]
  },
  {
   "cell_type": "markdown",
   "id": "89e89ad2",
   "metadata": {},
   "source": [
    "#### Get indexes"
   ]
  },
  {
   "cell_type": "code",
   "execution_count": 6,
   "id": "f813e2f8",
   "metadata": {},
   "outputs": [
    {
     "data": {
      "text/plain": [
       "RangeIndex(start=0, stop=4, step=1)"
      ]
     },
     "execution_count": 6,
     "metadata": {},
     "output_type": "execute_result"
    }
   ],
   "source": [
    "ds.index"
   ]
  },
  {
   "cell_type": "markdown",
   "id": "093437b5",
   "metadata": {},
   "source": [
    "#### Create a seria with own indexes"
   ]
  },
  {
   "cell_type": "code",
   "execution_count": 9,
   "id": "a0562dce",
   "metadata": {},
   "outputs": [
    {
     "data": {
      "text/plain": [
       "a    1\n",
       "b    2\n",
       "c    3\n",
       "d    4\n",
       "dtype: int64"
      ]
     },
     "execution_count": 9,
     "metadata": {},
     "output_type": "execute_result"
    }
   ],
   "source": [
    "ds2 = pd.Series([1, 2, 3, 4], index=['a', 'b', 'c', 'd'])\n",
    "ds2"
   ]
  },
  {
   "cell_type": "code",
   "execution_count": 11,
   "id": "0697ae59",
   "metadata": {},
   "outputs": [
    {
     "data": {
      "text/plain": [
       "a    1\n",
       "b    2\n",
       "c    3\n",
       "dtype: int64"
      ]
     },
     "execution_count": 11,
     "metadata": {},
     "output_type": "execute_result"
    }
   ],
   "source": [
    "ds3 = pd.Series({'a': 1, 'b': 2, 'c': 3})\n",
    "ds3"
   ]
  },
  {
   "cell_type": "markdown",
   "id": "31709d94",
   "metadata": {},
   "source": [
    "# Series. Work with values"
   ]
  },
  {
   "cell_type": "markdown",
   "id": "61595190",
   "metadata": {},
   "source": [
    "#### There are 2 ways how to get a required element"
   ]
  },
  {
   "cell_type": "code",
   "execution_count": 13,
   "id": "e24b77d0",
   "metadata": {},
   "outputs": [
    {
     "name": "stdout",
     "output_type": "stream",
     "text": [
      "2 4\n"
     ]
    }
   ],
   "source": [
    "print(ds2['b'], ds2.d)"
   ]
  },
  {
   "cell_type": "markdown",
   "id": "5f86e80d",
   "metadata": {},
   "source": [
    "#### Get a specific element"
   ]
  },
  {
   "cell_type": "code",
   "execution_count": 14,
   "id": "3e8b8c19",
   "metadata": {},
   "outputs": [
    {
     "data": {
      "text/plain": [
       "a    1\n",
       "d    4\n",
       "dtype: int64"
      ]
     },
     "execution_count": 14,
     "metadata": {},
     "output_type": "execute_result"
    }
   ],
   "source": [
    "ds2[ ['a', 'd'] ]"
   ]
  },
  {
   "cell_type": "markdown",
   "id": "b7d4db53",
   "metadata": {},
   "source": [
    "#### Change an element"
   ]
  },
  {
   "cell_type": "code",
   "execution_count": 15,
   "id": "f1e77653",
   "metadata": {},
   "outputs": [
    {
     "data": {
      "text/plain": [
       "a    1\n",
       "b    2\n",
       "c    3\n",
       "d    5\n",
       "dtype: int64"
      ]
     },
     "execution_count": 15,
     "metadata": {},
     "output_type": "execute_result"
    }
   ],
   "source": [
    "ds2['d'] = 5\n",
    "ds2"
   ]
  },
  {
   "cell_type": "markdown",
   "id": "e8fffb4b",
   "metadata": {},
   "source": [
    "#### Get or set new element via `at`"
   ]
  },
  {
   "cell_type": "code",
   "execution_count": 19,
   "id": "41b9e00a",
   "metadata": {},
   "outputs": [
    {
     "data": {
      "text/plain": [
       "a    1\n",
       "b    2\n",
       "c    3\n",
       "d    5\n",
       "e    7\n",
       "dtype: int64"
      ]
     },
     "execution_count": 19,
     "metadata": {},
     "output_type": "execute_result"
    }
   ],
   "source": [
    "ds2.at['e'] = 7\n",
    "ds2"
   ]
  },
  {
   "cell_type": "markdown",
   "id": "9a88bd3c",
   "metadata": {},
   "source": [
    "#### Change multiple values"
   ]
  },
  {
   "cell_type": "code",
   "execution_count": 20,
   "id": "e71377b0",
   "metadata": {},
   "outputs": [
    {
     "data": {
      "text/plain": [
       "a    1\n",
       "b    2\n",
       "c    3\n",
       "d    4\n",
       "e    5\n",
       "dtype: int64"
      ]
     },
     "execution_count": 20,
     "metadata": {},
     "output_type": "execute_result"
    }
   ],
   "source": [
    "ds2 [ ['d', 'e'] ] = [4, 5]\n",
    "ds2"
   ]
  },
  {
   "cell_type": "markdown",
   "id": "492cc5ed",
   "metadata": {},
   "source": [
    "#### `iat` is used for int keys"
   ]
  },
  {
   "cell_type": "code",
   "execution_count": 21,
   "id": "eff4b777",
   "metadata": {},
   "outputs": [
    {
     "data": {
      "text/plain": [
       "2"
      ]
     },
     "execution_count": 21,
     "metadata": {},
     "output_type": "execute_result"
    }
   ],
   "source": [
    "ds2.iat[1]"
   ]
  },
  {
   "cell_type": "markdown",
   "id": "4a355d88",
   "metadata": {},
   "source": [
    "#### Sum of series"
   ]
  },
  {
   "cell_type": "code",
   "execution_count": 4,
   "id": "28111d9d",
   "metadata": {},
   "outputs": [],
   "source": [
    "s1 = pd.Series([1, 2, 3], index = ['a', 'b', 'c'])\n",
    "s2 = pd.Series([4, 5, 6, 7], index = ['a', 'b', 'c', 'd'])"
   ]
  },
  {
   "cell_type": "code",
   "execution_count": 5,
   "id": "12d0106b",
   "metadata": {},
   "outputs": [
    {
     "data": {
      "text/plain": [
       "a    5.0\n",
       "b    7.0\n",
       "c    9.0\n",
       "d    NaN\n",
       "dtype: float64"
      ]
     },
     "execution_count": 5,
     "metadata": {},
     "output_type": "execute_result"
    }
   ],
   "source": [
    "s1 + s2"
   ]
  },
  {
   "cell_type": "code",
   "execution_count": 6,
   "id": "3d64c442",
   "metadata": {},
   "outputs": [
    {
     "data": {
      "text/plain": [
       "a    5.0\n",
       "b    7.0\n",
       "c    9.0\n",
       "d    7.0\n",
       "dtype: float64"
      ]
     },
     "execution_count": 6,
     "metadata": {},
     "output_type": "execute_result"
    }
   ],
   "source": [
    "s1.add(s2, fill_value=0)"
   ]
  },
  {
   "cell_type": "markdown",
   "id": "ecc90cb3",
   "metadata": {},
   "source": [
    "# Series. Data filtration"
   ]
  },
  {
   "cell_type": "code",
   "execution_count": 8,
   "id": "574f1f5a",
   "metadata": {},
   "outputs": [
    {
     "data": {
      "text/plain": [
       "Krakow    1000.0\n",
       "Warsaw    3000.0\n",
       "Gdansk     500.0\n",
       "Sopot        NaN\n",
       "dtype: float64"
      ]
     },
     "execution_count": 8,
     "metadata": {},
     "output_type": "execute_result"
    }
   ],
   "source": [
    "cities = pd.Series(\n",
    "    {'Krakow': 1000, 'Warsaw': 3000, 'Wroclaw': 900, 'Gdansk': 500},\n",
    "    index = ['Krakow', 'Warsaw', 'Gdansk', 'Sopot']\n",
    ")\n",
    "cities"
   ]
  },
  {
   "cell_type": "markdown",
   "id": "87dc0b9b",
   "metadata": {},
   "source": [
    "#### Methods `isnull` and `notnull`"
   ]
  },
  {
   "cell_type": "code",
   "execution_count": 9,
   "id": "49e9584e",
   "metadata": {},
   "outputs": [
    {
     "data": {
      "text/plain": [
       "Krakow    False\n",
       "Warsaw    False\n",
       "Gdansk    False\n",
       "Sopot      True\n",
       "dtype: bool"
      ]
     },
     "execution_count": 9,
     "metadata": {},
     "output_type": "execute_result"
    }
   ],
   "source": [
    "cities.isnull()"
   ]
  },
  {
   "cell_type": "code",
   "execution_count": 10,
   "id": "1115ec15",
   "metadata": {},
   "outputs": [
    {
     "data": {
      "text/plain": [
       "Krakow     True\n",
       "Warsaw     True\n",
       "Gdansk     True\n",
       "Sopot     False\n",
       "dtype: bool"
      ]
     },
     "execution_count": 10,
     "metadata": {},
     "output_type": "execute_result"
    }
   ],
   "source": [
    "cities.notnull()"
   ]
  },
  {
   "cell_type": "code",
   "execution_count": 11,
   "id": "80a22416",
   "metadata": {},
   "outputs": [
    {
     "data": {
      "text/plain": [
       "Krakow     True\n",
       "Warsaw     True\n",
       "Gdansk    False\n",
       "Sopot     False\n",
       "dtype: bool"
      ]
     },
     "execution_count": 11,
     "metadata": {},
     "output_type": "execute_result"
    }
   ],
   "source": [
    "cities >= 1000"
   ]
  },
  {
   "cell_type": "code",
   "execution_count": 12,
   "id": "59bca822",
   "metadata": {},
   "outputs": [
    {
     "data": {
      "text/plain": [
       "Sopot   NaN\n",
       "dtype: float64"
      ]
     },
     "execution_count": 12,
     "metadata": {},
     "output_type": "execute_result"
    }
   ],
   "source": [
    "cities[cities.isnull()]"
   ]
  },
  {
   "cell_type": "code",
   "execution_count": 13,
   "id": "e1418e63",
   "metadata": {},
   "outputs": [
    {
     "data": {
      "text/plain": [
       "Krakow    1000.0\n",
       "Warsaw    3000.0\n",
       "Gdansk     500.0\n",
       "dtype: float64"
      ]
     },
     "execution_count": 13,
     "metadata": {},
     "output_type": "execute_result"
    }
   ],
   "source": [
    "cities[cities.notnull()]"
   ]
  },
  {
   "cell_type": "code",
   "execution_count": 14,
   "id": "3b4e1312",
   "metadata": {},
   "outputs": [
    {
     "data": {
      "text/plain": [
       "Krakow    1000.0\n",
       "Warsaw    3000.0\n",
       "dtype: float64"
      ]
     },
     "execution_count": 14,
     "metadata": {},
     "output_type": "execute_result"
    }
   ],
   "source": [
    "cities[cities >= 1000]"
   ]
  },
  {
   "cell_type": "markdown",
   "id": "3ad02c95",
   "metadata": {},
   "source": [
    "`&` - AND\n",
    "`|` - OR\n",
    "`~` - NOT"
   ]
  },
  {
   "cell_type": "code",
   "execution_count": 17,
   "id": "bc5dff4b",
   "metadata": {},
   "outputs": [
    {
     "data": {
      "text/plain": [
       "Krakow    1000.0\n",
       "dtype: float64"
      ]
     },
     "execution_count": 17,
     "metadata": {},
     "output_type": "execute_result"
    }
   ],
   "source": [
    "cities[(cities >= 1000) & (cities <=2000)]"
   ]
  },
  {
   "cell_type": "markdown",
   "id": "8d339d52",
   "metadata": {},
   "source": [
    "#### Loops in Pandas"
   ]
  },
  {
   "cell_type": "code",
   "execution_count": 19,
   "id": "f316c79d",
   "metadata": {},
   "outputs": [
    {
     "name": "stdout",
     "output_type": "stream",
     "text": [
      "Index: Krakow, Value: 1000.0\n",
      "Index: Warsaw, Value: 3000.0\n",
      "Index: Gdansk, Value: 500.0\n",
      "Index: Sopot, Value: nan\n"
     ]
    }
   ],
   "source": [
    "for index, value in cities.items():\n",
    "    print(f'Index: {index}, Value: {value}')"
   ]
  }
 ],
 "metadata": {
  "kernelspec": {
   "display_name": "Python 3 (ipykernel)",
   "language": "python",
   "name": "python3"
  },
  "language_info": {
   "codemirror_mode": {
    "name": "ipython",
    "version": 3
   },
   "file_extension": ".py",
   "mimetype": "text/x-python",
   "name": "python",
   "nbconvert_exporter": "python",
   "pygments_lexer": "ipython3",
   "version": "3.10.9"
  }
 },
 "nbformat": 4,
 "nbformat_minor": 5
}
